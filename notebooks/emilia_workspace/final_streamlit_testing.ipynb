{
 "cells": [
  {
   "cell_type": "code",
   "execution_count": null,
   "id": "8af2e852-72f3-4795-86a3-6cb3a4f984e4",
   "metadata": {},
   "outputs": [],
   "source": []
  },
  {
   "cell_type": "code",
   "execution_count": null,
   "id": "4bad095a-69b8-403a-9312-46d72be90011",
   "metadata": {},
   "outputs": [],
   "source": [
    "# Get the photo location\n",
    "filepath = \"../../raw_data/pokemon_cards_api/\"\n",
    "set_id = \"swsh9\" #\n",
    "nb_cards = 186 #\n",
    "for i in range(1,nb_cards+1):\n",
    "    photo_path = f\"{filepath}card_{set_id}_{i}.png\"\n",
    "    card = Image.open(photo_path)\n",
    "    card_image = cv2.resize(np.array(card), (1800, 2475))\n",
    "    bottomcorner = card_ocr_crop(card_image, set_id)\n",
    "    preprocessed_img = ocr_preprocessor(bottomcorner,set_id)\n",
    "    im_text = get_pokeid(bottomcorner,set_id)\n",
    "    plt.figure(figsize=(10,60))\n",
    "    plt.subplot(nb_cards,1,i)\n",
    "    plt.imshow(preprocessed_img)\n",
    "    plt.title(im_text)"
   ]
  }
 ],
 "metadata": {
  "kernelspec": {
   "display_name": "Python 3 (ipykernel)",
   "language": "python",
   "name": "python3"
  },
  "language_info": {
   "codemirror_mode": {
    "name": "ipython",
    "version": 3
   },
   "file_extension": ".py",
   "mimetype": "text/x-python",
   "name": "python",
   "nbconvert_exporter": "python",
   "pygments_lexer": "ipython3",
   "version": "3.10.6"
  }
 },
 "nbformat": 4,
 "nbformat_minor": 5
}
